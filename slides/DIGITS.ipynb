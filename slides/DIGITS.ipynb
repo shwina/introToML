{
 "cells": [
  {
   "cell_type": "markdown",
   "metadata": {},
   "source": [
    "Nvidia DIGITS\n",
    "https://developer.nvidia.com/digits\n",
    "    "
   ]
  },
  {
   "cell_type": "markdown",
   "metadata": {},
   "source": [
    "Setup the Server"
   ]
  },
  {
   "cell_type": "markdown",
   "metadata": {},
   "source": [
    "*Request to be added to the singularity group\n",
    "*Request nodes with GPUs\n",
    "*Add \"deep-learning\" module\n",
    "*Run the server\n",
    "*Port forwarding to the server\n",
    "*Run Nvidia DIGITS\n"
   ]
  },
  {
   "cell_type": "markdown",
   "metadata": {},
   "source": [
    "Request to be added to the singularity group\n",
    "\n",
    "*Contact ithelp@clemson.edu and include the word \"Palmetto\" in the subject line with a request to be added to the singularity group.\n",
    "*Check your actual status on your palmetto ssh session by typing \"groups\" on the terminal:\n",
    "    $ groups cuuser singularity"
   ]
  },
  {
   "attachments": {},
   "cell_type": "markdown",
   "metadata": {},
   "source": [
    "$ qsub -I -l select=1:ncpus=2:mem=12gb:ngpus=1:gpu_model=k20,walltime=72:00:00\n",
    "$ module purge\n",
    "$ module add deep-learning\n",
    "$ digit-devserver\n",
    "or \n",
    "$ digit-devserver -p [5001-6000]\n",
    "$ ssh -L 10000:nodeXXX.palmetto.clemson.edu:5000 <username>@user.palmetto.clemson.edu"
   ]
  },
  {
   "cell_type": "markdown",
   "metadata": {},
   "source": [
    "Run Nvidia DIGITS\n",
    "*Open your browser. Ex: Chrome, Firefox, Safari, etc\n",
    "*Then go to http://localhost:10000"
   ]
  },
  {
   "attachments": {},
   "cell_type": "markdown",
   "metadata": {},
   "source": [
    "Getting started with Nvidia GIDITS (MNIST)\n",
    "*Download MNIST dataset![Screen%20Shot%202017-08-06%20at%207.56.04%20PM.png]\n",
    "*Add the downloaded MNIST dataset\n",
    "*Add a new model\n",
    "*Training model"
   ]
  },
  {
   "attachments": {},
   "cell_type": "markdown",
   "metadata": {},
   "source": [
    "Download MNIST dataset\n",
    "\n",
    "*Login to palmetto\n",
    "*Request a compute node\n",
    "$module add deep-learning\n",
    "$python -m digits.download_data mnist ~/mnist\n"
   ]
  }
 ],
 "metadata": {
  "kernelspec": {
   "display_name": "Python 3 (Anaconda)",
   "language": "python",
   "name": "anaconda_py3"
  },
  "language_info": {
   "codemirror_mode": {
    "name": "ipython",
    "version": 3
   },
   "file_extension": ".py",
   "mimetype": "text/x-python",
   "name": "python",
   "nbconvert_exporter": "python",
   "pygments_lexer": "ipython3",
   "version": "3.5.2"
  }
 },
 "nbformat": 4,
 "nbformat_minor": 2
}
